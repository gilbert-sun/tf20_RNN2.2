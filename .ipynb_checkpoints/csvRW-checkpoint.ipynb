{
 "cells": [
  {
   "cell_type": "code",
   "execution_count": null,
   "metadata": {
    "collapsed": true
   },
   "outputs": [],
   "source": [
    "import csv\n",
    "import glob\n",
    "import errno"
   ]
  },
  {
   "cell_type": "code",
   "execution_count": null,
   "metadata": {
    "collapsed": true
   },
   "outputs": [],
   "source": [
    "f = open(\"example.csv\",\"r\")"
   ]
  },
  {
   "cell_type": "code",
   "execution_count": null,
   "metadata": {
    "collapsed": true
   },
   "outputs": [],
   "source": [
    "for row in csv.reader(f):\n",
    "    print (row)\n",
    "f.close()  "
   ]
  },
  {
   "cell_type": "code",
   "execution_count": null,
   "metadata": {
    "collapsed": true
   },
   "outputs": [],
   "source": [
    "import csv \n",
    "f = open(\"example.csv\",\"r\")\n",
    "for row in csv.DictReader(f):\n",
    "    print (row[\"voltage\"])\n",
    "f.close()    "
   ]
  },
  {
   "cell_type": "code",
   "execution_count": null,
   "metadata": {
    "collapsed": true
   },
   "outputs": [],
   "source": [
    "import tensorflow as tf;  \n",
    "import numpy as np;  \n",
    "A = np.array([[1,2], [3,4]])  \n",
    "with tf.Session() as sess:  \n",
    "    print( sess.run(tf.reduce_mean(A))  )\n",
    "    print( sess.run(tf.reduce_mean(A, axis=0))  )\n",
    "    print( sess.run(tf.reduce_mean(A, axis=1))  )"
   ]
  },
  {
   "cell_type": "code",
   "execution_count": 3,
   "metadata": {},
   "outputs": [
    {
     "ename": "NameError",
     "evalue": "name 'S_ISDIR' is not defined",
     "output_type": "error",
     "traceback": [
      "\u001b[0;31m---------------------------------------------------------------------------\u001b[0m",
      "\u001b[0;31mNameError\u001b[0m                                 Traceback (most recent call last)",
      "\u001b[0;32m<ipython-input-3-ad2c3a59f3a4>\u001b[0m in \u001b[0;36m<module>\u001b[0;34m()\u001b[0m\n\u001b[1;32m     37\u001b[0m \u001b[0muCount\u001b[0m \u001b[0;34m=\u001b[0m \u001b[0;36m1\u001b[0m\u001b[0;34m\u001b[0m\u001b[0m\n\u001b[1;32m     38\u001b[0m \u001b[0;32mwhile\u001b[0m \u001b[0;32mTrue\u001b[0m\u001b[0;34m:\u001b[0m\u001b[0;34m\u001b[0m\u001b[0m\n\u001b[0;32m---> 39\u001b[0;31m         \u001b[0mvrm_bbb_video\u001b[0m\u001b[0;34m(\u001b[0m\u001b[0;34m\"/home/gilbert/Downloads/20170817-AI/TUTv1_tensorflow\"\u001b[0m\u001b[0;34m,\u001b[0m \u001b[0mvisitfile\u001b[0m\u001b[0;34m)\u001b[0m\u001b[0;34m\u001b[0m\u001b[0m\n\u001b[0m\u001b[1;32m     40\u001b[0m         \u001b[0mtime\u001b[0m\u001b[0;34m.\u001b[0m\u001b[0msleep\u001b[0m\u001b[0;34m(\u001b[0m\u001b[0;36m150\u001b[0m\u001b[0;34m)\u001b[0m\u001b[0;34m\u001b[0m\u001b[0m\n\u001b[1;32m     41\u001b[0m         \u001b[0mprint\u001b[0m\u001b[0;34m\u001b[0m\u001b[0m\n",
      "\u001b[0;32m<ipython-input-3-ad2c3a59f3a4>\u001b[0m in \u001b[0;36mvrm_bbb_video\u001b[0;34m(top, callback)\u001b[0m\n\u001b[1;32m      7\u001b[0m         \u001b[0mpathname\u001b[0m \u001b[0;34m=\u001b[0m \u001b[0mos\u001b[0m\u001b[0;34m.\u001b[0m\u001b[0mpath\u001b[0m\u001b[0;34m.\u001b[0m\u001b[0mjoin\u001b[0m\u001b[0;34m(\u001b[0m\u001b[0mtop\u001b[0m\u001b[0;34m,\u001b[0m \u001b[0mf\u001b[0m\u001b[0;34m)\u001b[0m\u001b[0;34m\u001b[0m\u001b[0m\n\u001b[1;32m      8\u001b[0m         \u001b[0mmode\u001b[0m \u001b[0;34m=\u001b[0m \u001b[0mos\u001b[0m\u001b[0;34m.\u001b[0m\u001b[0mstat\u001b[0m\u001b[0;34m(\u001b[0m\u001b[0mpathname\u001b[0m\u001b[0;34m)\u001b[0m\u001b[0;34m\u001b[0m\u001b[0m\n\u001b[0;32m----> 9\u001b[0;31m         \u001b[0;32mif\u001b[0m \u001b[0mS_ISDIR\u001b[0m\u001b[0;34m(\u001b[0m\u001b[0mmode\u001b[0m\u001b[0;34m)\u001b[0m\u001b[0;34m:\u001b[0m\u001b[0;34m\u001b[0m\u001b[0m\n\u001b[0m\u001b[1;32m     10\u001b[0m             \u001b[0;31m# It's a directory, recurse into it\u001b[0m\u001b[0;34m\u001b[0m\u001b[0;34m\u001b[0m\u001b[0m\n\u001b[1;32m     11\u001b[0m             \u001b[0mvrm_bbb_video\u001b[0m\u001b[0;34m(\u001b[0m\u001b[0mpathname\u001b[0m\u001b[0;34m,\u001b[0m \u001b[0mcallback\u001b[0m\u001b[0;34m)\u001b[0m\u001b[0;34m\u001b[0m\u001b[0m\n",
      "\u001b[0;31mNameError\u001b[0m: name 'S_ISDIR' is not defined"
     ]
    }
   ],
   "source": [
    "import os,sys\n",
    "def vrm_bbb_video(top, callback):\n",
    "    '''recursively descend the directory tree rooted at top,\n",
    "       calling the callback function for each regular file'''\n",
    "\n",
    "    for f in os.listdir(top):\n",
    "        pathname = os.path.join(top, f)\n",
    "        mode = os.stat(pathname)\n",
    "        if S_ISREG(mode):\n",
    "            # It's a file, call the callback function\n",
    "            print(f)\n",
    "            echo(f, VIDEO_LOG)\n",
    "            vfile = f.split('_')[0] + '_' + f.split('_')[1] + '_ch1.avi'\n",
    "            jfile = f.split('_')[0] + '_' + f.split('_')[1] + '_ch1.jpg'\n",
    "            print\n",
    "            \"response:\" + curl('http://' + SGL_HOST + '/meta/post', sgl_json_video('id', vfile, 'idj', jfile))\n",
    "            os.system(\"ffly video1 snapshot /root/sdcard/%s\" % jfile)\n",
    "            callback(pathname)\n",
    "        else:\n",
    "            # Unknown file type, print a message\n",
    "            print('Skipping %s' % pathname)\n",
    "\n",
    "\n",
    "def visitfile(file):\n",
    "    time.sleep(1)\n",
    "\n",
    "\n",
    "def video_read():\n",
    "    if os.path.isfile(VIDEO_LOG):\n",
    "        with open(VIDEO_LOG, 'r') as f:\n",
    "            return f.read()\n",
    "\n",
    "\n",
    "uCount = 1\n",
    "while True:\n",
    "        vrm_bbb_video(\"/home/gilbert/Downloads/20170817-AI/TUTv1_tensorflow\", visitfile)\n",
    "        time.sleep(150)\n",
    "        print\n",
    "        \"video_log() while loop: %d\" % uCount\n",
    "        uCount = uCount + 1\n"
   ]
  },
  {
   "cell_type": "code",
   "execution_count": null,
   "metadata": {
    "collapsed": true
   },
   "outputs": [],
   "source": [
    "import csv\n",
    "import glob\n",
    "import errno\n",
    "files = glob.glob(\"*.csv\")\n",
    "i = 0\n",
    "volDiff=[]\n",
    "for name in files:\n",
    "    print (i)\n",
    "    print (\"-------------------\" +name+\"---------------------\")\n",
    "    i+=1\n",
    "    ii = 0 \n",
    "    befValue = 0\n",
    "    diffValue = 0\n",
    "    N = len (name) -1  \n",
    "    v1 = 0\n",
    "    v2 = 0\n",
    "    \n",
    "    data_features = []\n",
    "    data_labels = []\n",
    "    \n",
    "    try:\n",
    "        with open(name,'r') as f:\n",
    "            for row  in csv.reader(f):\n",
    "                # print ( row.split() )\n",
    "                print ( row )\n",
    "                \n",
    "                \n",
    "                data_features.append( [ float(x) for x in row[:-1] if x != '' ] )\n",
    "                \n",
    "                volDiff.append(row[1])\n",
    "                \n",
    "                yy2 = str(''.join(volDiff[ii]))                \n",
    "                print ( yy2 )                 \n",
    "                # # v1 = int (volDiff[ii-1: ii]) \n",
    "                # yy1 = str(''.join(volDiff[ii-1: ii]))  \n",
    "                # vv = int(yy2) - int(yy1)                \n",
    "                ii+=1\n",
    "    except IOError as exc:\n",
    "        if exc.errno != errno.EISDIR:\n",
    "            raise "
   ]
  },
  {
   "cell_type": "code",
   "execution_count": null,
   "metadata": {
    "collapsed": true
   },
   "outputs": [],
   "source": [
    "import csv  \n",
    "import glob\n",
    "import errno\n",
    "files = glob.glob(\"./*.csv\")\n",
    "for fileNameInput in files:\n",
    "    fp = open(fileNameInput,\"r\").readlines()\n",
    "    cfp = csv.DictReader(fp)\n",
    "    N = len(fp)-1\n",
    "    Vol = [] \n",
    "  \n",
    "    dataset1 = list(cfp)\n",
    "    \n",
    "    for i in range(len(dataset1)):\n",
    "     \n",
    "            print (str(i)+\":\"+\"\\n\")\n",
    "     \n",
    "            try:\n",
    "                #Vol.append() \n",
    "                w = float( dataset1[i][\"Voltage\"].strip('\"') )\n",
    "                w1 = float( dataset1[i-1][\"Voltage\"].strip('\"') )\n",
    "                w2 = w1-w\n",
    "                w3 = abs(w2)\n",
    "                print (w)\n",
    "                print (w1)   \n",
    "                if(w3 > 0.4):\n",
    "                    print (\"Level4\")\n",
    "                elif (w3 < 0.4 and w3 > 0.3):\n",
    "                    print (\"Level3\")\n",
    "                elif (w3 < 0.3 and w3 > 0.2):\n",
    "                    print (\"Level2\")\n",
    "                elif (w3 < 0.2 ):\n",
    "                    print (\"Level1\")\n",
    "                    \n",
    "            except ValueError:\n",
    "                print(\"Error with row\",i,\":\",dataset1[i])\n",
    "                pass       \n",
    " \n",
    " "
   ]
  },
  {
   "cell_type": "code",
   "execution_count": null,
   "metadata": {
    "collapsed": true
   },
   "outputs": [],
   "source": [
    "\n",
    "import os,sys\n",
    "from scipy import stats\n",
    "import numpy as np\n",
    "\n",
    "f=open('example.csv', 'r').readlines()\n",
    "N=len(f)-1\n",
    "for i in range(0,N):\n",
    "    w=f[i].split()\n",
    "    l1=w[1:8]\n",
    "    l2=w[8:15]\n",
    "    list1=[float(x) for x in l1]\n",
    "    list2=[float(x) for x in l2]\n",
    "    result=stats.ttest_ind(list1,list2)\n",
    "    print (result[1])"
   ]
  },
  {
   "cell_type": "code",
   "execution_count": null,
   "metadata": {
    "collapsed": true
   },
   "outputs": [],
   "source": [
    "import csv\n",
    "import glob\n",
    "files = glob.glob(\"./*.csv\")\n",
    "for fileNameInput in files:\n",
    "        fp = open(fileNameInput, \"r\").readlines()\n",
    "        cfp = csv.DictReader(fp)\n",
    "        dataset1 = list(cfp)\n",
    "        N = len(dataset1)\n",
    "        M = int(N / 20)\n",
    "        dataset2 = dataset1[:M] \n",
    "        data_label = []\n",
    "        data_features = []\n",
    "        # print (\"--------------------------------------\")\n",
    "        # print (M)\n",
    "        # print (\"--------------------------------------\") \n",
    "        for i in range(20*M):\n",
    "            # print(str(i) + \":\" + \"\\n\")\n",
    "            try:\n",
    "                w = float(dataset2[i][\"Voltage\"].strip('\"'))\n",
    "                w1 = float(dataset2[i - 1][\"Voltage\"].strip('\"'))\n",
    "                w3 = abs(w1 - w)\n",
    "                if (w3 > 0.4):\n",
    "                    print(\"Level4\")\n",
    "                    data_label.append(4)\n",
    "                    data_features.append(w3)\n",
    "                elif (w3 < 0.4 and w3 > 0.3):\n",
    "                    print(\"Level3\")\n",
    "                    data_label.append(3)\n",
    "                    data_features.append(w3)\n",
    "                elif (w3 < 0.3 and w3 > 0.2):\n",
    "                    print(\"Level2\")\n",
    "                    data_label.append(2)\n",
    "                    data_features.append(w3)\n",
    "                elif (w3 < 0.2):\n",
    "                    print(\"Level1\")\n",
    "                    data_label.append(1)\n",
    "                    data_features.append(w3)\n",
    "                    if (i < 20):\n",
    "                        print(data_features )\n",
    "                        print(data_label )\n",
    "            except ValueError:\n",
    "                print(\"Error with row\", i, \":\", dataset2[i])\n",
    "                pass \n",
    "        data_reshape =  np.reshape(data_features,(M,20))\n",
    "        # print (\"--------------------------------------\")\n",
    "        print (\"--------------------------------------\")\n",
    "        print (data_reshape)\n",
    "        # print (\"--------------------------------------\")\n",
    "        # print (\"--------------------------------------\")"
   ]
  },
  {
   "cell_type": "code",
   "execution_count": null,
   "metadata": {
    "collapsed": true
   },
   "outputs": [],
   "source": [
    "aa = [][20]\n",
    "for ii in range(1000):\n",
    "    print (ii)\n",
    "    if (ii % 20 != 0):\n",
    "        aa.append(ii)\n",
    "    else:\n",
    "        print (aa)\n",
    "        "
   ]
  }
 ],
 "metadata": {
  "kernelspec": {
   "display_name": "Python 3",
   "language": "python",
   "name": "python3"
  },
  "language_info": {
   "codemirror_mode": {
    "name": "ipython",
    "version": 3
   },
   "file_extension": ".py",
   "mimetype": "text/x-python",
   "name": "python",
   "nbconvert_exporter": "python",
   "pygments_lexer": "ipython3",
   "version": "3.5.2"
  }
 },
 "nbformat": 4,
 "nbformat_minor": 1
}
